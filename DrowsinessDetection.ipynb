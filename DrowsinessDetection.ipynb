{
 "cells": [
  {
   "cell_type": "code",
   "execution_count": 1,
   "metadata": {},
   "outputs": [],
   "source": [
    "from scipy.spatial import distance # For calculating Euclidean distance between points\n",
    "from imutils import face_utils # Utility functions for facial landmarks\n",
    "import imutils # Utility functions for image processing\n",
    "import dlib # Library for machine learning and image processing, specifically face detection and landmarks\n",
    "import cv2 # OpenCV library for image and video processing"
   ]
  },
  {
   "cell_type": "code",
   "execution_count": 2,
   "metadata": {},
   "outputs": [],
   "source": [
    "def eye_aspect_ratio(eye):\n",
    "    # Calculate the vertical distances between the landmarks of the eye\n",
    "\tvertical_distance1 = distance.euclidean(eye[1], eye[5])\n",
    "\tvertical_distance2 = distance.euclidean(eye[2], eye[4])\n",
    "    # Calculate the horizontal distance between the eye landmarks\n",
    "\thorizontal_distance = distance.euclidean(eye[0], eye[3])\n",
    "    # Calculate the Eye Aspect Ratio (EAR)\n",
    "\tear = (vertical_distance1 + vertical_distance2) / (2.0 * horizontal_distance)\n",
    "\treturn ear"
   ]
  },
  {
   "cell_type": "code",
   "execution_count": 3,
   "metadata": {},
   "outputs": [],
   "source": [
    "thresh = 0.20 # Threshold value for EAR to detect drowsiness\n",
    "frame_check = 20 # Number of consecutive frames the EAR should be below the threshold to trigger an alert\n",
    "# Initialize dlib's face detector (HOG-based) and facial landmarks predictor\n",
    "detect = dlib.get_frontal_face_detector() \n",
    "predict = dlib.shape_predictor(\"shape_predictor_68_face_landmarks.dat\")"
   ]
  },
  {
   "cell_type": "code",
   "execution_count": 4,
   "metadata": {},
   "outputs": [],
   "source": [
    "# Extract the indexes for the left and right eye landmarks\n",
    "(lStart, lEnd) = face_utils.FACIAL_LANDMARKS_IDXS[\"left_eye\"]\n",
    "(rStart, rEnd) = face_utils.FACIAL_LANDMARKS_IDXS[\"right_eye\"]"
   ]
  },
  {
   "cell_type": "code",
   "execution_count": 5,
   "metadata": {},
   "outputs": [],
   "source": [
    "# Start capturing video from the webcam\n",
    "cap=cv2.VideoCapture(0)\n",
    "ctr=0 # Initialize a counter to track frames where EAR is below the threshold\n",
    "\n",
    "while cap.isOpened():\n",
    "    ret, frame=cap.read() # Capture a frame from the webcam\n",
    "    frame = imutils.resize(frame, width=600) # Resize the frame to a width of 600 pixels\n",
    "    gray = cv2.cvtColor(frame, cv2.COLOR_BGR2GRAY) # Convert the frame to grayscale\n",
    "    subjects = detect(gray, 0) # Detect faces in the grayscale frame\n",
    "    \n",
    "    for subject in subjects: # Loop over each detected face\n",
    "        shape = predict(gray, subject) # Predict the facial landmarks\n",
    "        shape = face_utils.shape_to_np(shape) # Convert the landmarks to a NumPy array\n",
    "        # Extract the coordinates for the left and right eye\n",
    "        leftEye = shape[lStart:lEnd]\n",
    "        rightEye = shape[rStart:rEnd]\n",
    "        # Calculate the EAR for both eyes\n",
    "        leftEAR = eye_aspect_ratio(leftEye)\n",
    "        rightEAR = eye_aspect_ratio(rightEye)\n",
    "        # Average the EAR for both eyes\n",
    "        ear = (leftEAR + rightEAR) / 2.0\n",
    "        \n",
    "        # If the EAR is below the threshold, increment the counter\n",
    "        if ear < thresh:\n",
    "            ctr += 1\n",
    "            # If the counter exceeds the frame_check threshold, display the alert\n",
    "            if ctr >= frame_check:\n",
    "                cv2.putText(frame, \"Wake up!!\", (150, 250),\tcv2.FONT_HERSHEY_SIMPLEX, 2, (0, 0, 255), 4)\n",
    "        else:\n",
    "            ctr = 0 # Reset the counter if EAR is above the threshold\n",
    "\n",
    "    # Display the resulting frame with the alert, if triggered\n",
    "    cv2.imshow(\"Frame\", frame)\n",
    "    # Break the loop if 'q' is pressed\n",
    "    key = cv2.waitKey(1) & 0xFF\n",
    "    if key == ord(\"q\"):\n",
    "        cv2.destroyAllWindows() # Close all OpenCV windows\n",
    "        cap.release() # Release the webcam\n",
    "        break"
   ]
  }
 ],
 "metadata": {
  "kernelspec": {
   "display_name": "Python 3 (ipykernel)",
   "language": "python",
   "name": "python3"
  },
  "language_info": {
   "codemirror_mode": {
    "name": "ipython",
    "version": 3
   },
   "file_extension": ".py",
   "mimetype": "text/x-python",
   "name": "python",
   "nbconvert_exporter": "python",
   "pygments_lexer": "ipython3",
   "version": "3.12.4"
  }
 },
 "nbformat": 4,
 "nbformat_minor": 4
}
